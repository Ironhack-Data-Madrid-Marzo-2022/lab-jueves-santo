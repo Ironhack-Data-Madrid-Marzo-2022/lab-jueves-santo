{
 "cells": [
  {
   "cell_type": "markdown",
   "id": "ecological-tucson",
   "metadata": {
    "toc": true
   },
   "source": [
    "<h1>Table of Contents<span class=\"tocSkip\"></span></h1>\n",
    "<div class=\"toc\"><ul class=\"toc-item\"></ul></div>"
   ]
  },
  {
   "cell_type": "code",
   "execution_count": null,
   "id": "soviet-bookmark",
   "metadata": {},
   "outputs": [],
   "source": [
    "labs = [{'name': 'pandas_deepdive', 'week': 2, 'weekday': 2, 'location': 'https://github.com/Ironhack-Data-Madrid-Marzo-2022/2.2-pandas-deepdive', 'dificulty': 5}, {'name': 'import_export', 'week': 2, 'weekday': 3, 'location': 'https://github.com/Ironhack-Data-Madrid-Marzo-2022/2.3-lab-import-export', 'dificulty': 5}, {'name': 'tuple_set_dict', 'week': 1, 'weekday': 2, 'location': 'https://github.com/Ironhack-Data-Madrid-Marzo-2022/1.2-lab-tuple-set-dict', 'dificulty': 5}, {'name': 'list_comprehension', 'week': 1, 'weekday': 2, 'location': 'https://github.com/Ironhack-Data-Madrid-Marzo-2022/1.2-lab-list-comprehension', 'dificulty': 5}, {'name': 'Vikings', 'week': 1, 'weekday': 5, 'location': 'https://github.com/Ironhack-Data-Madrid-Marzo-2022/1.5-lab-vikings', 'dificulty': 5}, {'name': 'lab-scavengers', 'week': 4, 'weekday': 1, 'location': 'https://github.com/Ironhack-Data-Madrid-Marzo-2022/4.1-lab-api-scavengers-game', 'dificulty': 5}, {'name': 'mongo_queries', 'week': 3, 'weekday': 4, 'location': 'https://github.com/Ironhack-Data-Madrid-Marzo-2022/3.4-lab-mongo', 'dificulty': 5}, {'name': 'error-handeling with list comprehension', 'week': 1, 'weekday': 4, 'location': 'https://github.com/Ironhack-Data-Madrid-Marzo-2022/1.4-lab-errorhand_listcomp', 'dificulty': 5}, {'name': 'functions', 'week': 1, 'weekday': 3, 'location': 'https://github.com/Ironhack-Data-Madrid-Marzo-2022/1.3-lab-functions', 'dificulty': 5}, {'name': 'git_conflicts', 'week': 1, 'weekday': 1, 'location': 'https://github.com/Ironhack-Data-Madrid-Marzo-2022/1.1-lab-resolving-git-conflicts', 'dificulty': 5}, {'name': 'lab-bs4', 'week': 4, 'weekday': 2, 'location': 'https://github.com/Ironhack-Data-Madrid-Marzo-2022/4.2-lab_web_scraping', 'dificulty': 5}, {'name': 'lab-parallel', 'week': 4, 'weekday': 4, 'location': 'https://bit.ly/3jBt68j', 'dificulty': 5}, {'name': 'my_sql_select', 'week': 3, 'weekday': 2, 'location': 'https://github.com/Ironhack-Data-Madrid-Marzo-2022/3.2-lab-mysql-select', 'dificulty': 5}, {'name': 'Bag_of:words', 'week': 1, 'weekday': 3, 'location': 'https://github.com/Ironhack-Data-Madrid-Marzo-2022/1.3-Bags-of-words', 'dificulty': 5}, {'name': 'my_sql_advanced', 'week': 3, 'weekday': 3, 'location': 'https://github.com/Ironhack-Data-Madrid-Marzo-2022/3.3-lab-mysql-advanced', 'dificulty': 5}, {'name': 'bash', 'week': 1, 'weekday': 1, 'location': 'https://github.com/Ironhack-Data-Madrid-Marzo-2022/1.1-lab-bash', 'dificulty': 5}, {'name': 'intro_to_pandas', 'week': 2, 'weekday': 1, 'location': 'https://github.com/Ironhack-Data-Madrid-Marzo-2022/2.1-lab-intro-to-pandas', 'dificulty': 5}, {'name': 'data_cleaning', 'week': 2, 'weekday': 4, 'location': 'https://github.com/Ironhack-Data-Madrid-Marzo-2022/2.4-lab-data-cleaning', 'dificulty': 5}, {'name': 'numpy', 'week': 2, 'weekday': 1, 'location': 'https://github.com/Ironhack-Data-Madrid-Marzo-2022/2.1-lab-numpy', 'dificulty': 5}, {'name': 'lab-selenium', 'week': 4, 'weekday': 3, 'location': 'https://github.com/Ironhack-Data-Madrid-Marzo-2022/4.3-lab-web-scraping-selenium', 'dificulty': 5}, {'name': 'lab-intro-to-mysql', 'week': 3, 'weekday': 1, 'location': 'https://github.com/Ironhack-Data-Madrid-Marzo-2022/3.1-lab-intro-to-mysql', 'dificulty': 5}]"
   ]
  },
  {
   "cell_type": "code",
   "execution_count": null,
   "id": "induced-royal",
   "metadata": {},
   "outputs": [],
   "source": []
  },
  {
   "cell_type": "code",
   "execution_count": null,
   "id": "vietnamese-updating",
   "metadata": {},
   "outputs": [],
   "source": []
  }
 ],
 "metadata": {
  "kernelspec": {
   "display_name": "ironhack",
   "language": "python",
   "name": "ironhack"
  },
  "language_info": {
   "codemirror_mode": {
    "name": "ipython",
    "version": 3
   },
   "file_extension": ".py",
   "mimetype": "text/x-python",
   "name": "python",
   "nbconvert_exporter": "python",
   "pygments_lexer": "ipython3",
   "version": "3.8.5"
  },
  "toc": {
   "base_numbering": 1,
   "nav_menu": {},
   "number_sections": true,
   "sideBar": true,
   "skip_h1_title": false,
   "title_cell": "Table of Contents",
   "title_sidebar": "Contents",
   "toc_cell": true,
   "toc_position": {},
   "toc_section_display": true,
   "toc_window_display": false
  },
  "varInspector": {
   "cols": {
    "lenName": 16,
    "lenType": 16,
    "lenVar": 40
   },
   "kernels_config": {
    "python": {
     "delete_cmd_postfix": "",
     "delete_cmd_prefix": "del ",
     "library": "var_list.py",
     "varRefreshCmd": "print(var_dic_list())"
    },
    "r": {
     "delete_cmd_postfix": ") ",
     "delete_cmd_prefix": "rm(",
     "library": "var_list.r",
     "varRefreshCmd": "cat(var_dic_list()) "
    }
   },
   "types_to_exclude": [
    "module",
    "function",
    "builtin_function_or_method",
    "instance",
    "_Feature"
   ],
   "window_display": false
  }
 },
 "nbformat": 4,
 "nbformat_minor": 5
}
